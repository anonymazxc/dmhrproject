{
 "cells": [
  {
   "cell_type": "code",
   "execution_count": 1,
   "metadata": {
    "collapsed": true
   },
   "outputs": [],
   "source": [
    "#preliminaries\n",
    "import pandas as pd\n",
    "import numpy as np\n",
    "\n",
    "%matplotlib inline\n",
    "import random\n",
    "import matplotlib.pyplot as plt"
   ]
  },
  {
   "cell_type": "code",
   "execution_count": 12,
   "metadata": {},
   "outputs": [],
   "source": [
    "c = (\"Data-Set.txt\")\n",
    "data= np.loadtxt(c, delimiter=',', unpack=True)\n"
   ]
  },
  {
   "cell_type": "code",
   "execution_count": 6,
   "metadata": {},
   "outputs": [
    {
     "data": {
      "text/plain": [
       "array([[   0.    ,   30.    ,   60.    ,   90.    ,  120.    ,  150.    ,\n",
       "         180.    ,  210.    ,  240.    ,  270.    ,  300.    ,  330.    ,\n",
       "         360.    ,  390.    ,  420.    ,  450.    ,  480.    ,  510.    ,\n",
       "         540.    ,  570.    ,  600.    ,  630.    ,  660.    ,  690.    ,\n",
       "         720.    ,  750.    ,  780.    ,  810.    ,  840.    ,  870.    ,\n",
       "         900.    ,  930.    ],\n",
       "       [  16.0313,   16.0314,   16.0355,   16.047 ,   16.0648,   16.0874,\n",
       "          16.1128,   16.1407,   16.1702,   16.2012,   16.2332,   16.2657,\n",
       "          16.2999,   16.3336,   16.3692,   16.4059,   16.4421,   16.4787,\n",
       "          16.5173,   16.5557,   16.5943,   16.6335,   16.6747,   16.715 ,\n",
       "          16.756 ,   16.7984,   16.8414,   16.8836,   16.9289,   16.9741,\n",
       "          17.0204,   17.0655]])"
      ]
     },
     "execution_count": 6,
     "metadata": {},
     "output_type": "execute_result"
    }
   ],
   "source": [
    "data"
   ]
  },
  {
   "cell_type": "code",
   "execution_count": 13,
   "metadata": {},
   "outputs": [
    {
     "data": {
      "text/plain": [
       "(array([  0.    ,  16.0313]), array([ 30.    ,  16.0314]))"
      ]
     },
     "execution_count": 13,
     "metadata": {},
     "output_type": "execute_result"
    }
   ],
   "source": [
    "x=data[:,0]\n",
    "y=data[:,1]\n",
    "x,y"
   ]
  },
  {
   "cell_type": "code",
   "execution_count": 17,
   "metadata": {},
   "outputs": [],
   "source": [
    "import numpy.polynomial.polynomial as poly\n"
   ]
  },
  {
   "cell_type": "code",
   "execution_count": 24,
   "metadata": {},
   "outputs": [
    {
     "name": "stderr",
     "output_type": "stream",
     "text": [
      "C:\\Program Files\\Anaconda3\\lib\\site-packages\\ipykernel_launcher.py:1: RankWarning: The fit may be poorly conditioned\n",
      "  \"\"\"Entry point for launching an IPython kernel.\n"
     ]
    }
   ],
   "source": [
    "coefs = poly.polyfit(x, y, 10)\n"
   ]
  },
  {
   "cell_type": "code",
   "execution_count": 41,
   "metadata": {},
   "outputs": [
    {
     "data": {
      "text/plain": [
       "array([  3.00000000e+01,  -8.71332955e-02,  -5.43519836e-03,\n",
       "        -3.39036657e-04,  -2.11484195e-05,  -1.31919554e-06,\n",
       "        -8.22887440e-08,  -5.13300506e-09,  -3.20186451e-10,\n",
       "        -1.99725818e-11,  -1.24584917e-12])"
      ]
     },
     "execution_count": 41,
     "metadata": {},
     "output_type": "execute_result"
    }
   ],
   "source": [
    "coefs"
   ]
  },
  {
   "cell_type": "code",
   "execution_count": 42,
   "metadata": {},
   "outputs": [
    {
     "data": {
      "text/plain": [
       "[<matplotlib.lines.Line2D at 0xb365a90>,\n",
       " <matplotlib.lines.Line2D at 0xb365c88>,\n",
       " <matplotlib.lines.Line2D at 0xb365e80>,\n",
       " <matplotlib.lines.Line2D at 0xb36c0b8>,\n",
       " <matplotlib.lines.Line2D at 0xb36c2b0>,\n",
       " <matplotlib.lines.Line2D at 0xb36c4a8>,\n",
       " <matplotlib.lines.Line2D at 0xb36c6a0>,\n",
       " <matplotlib.lines.Line2D at 0xb36c898>,\n",
       " <matplotlib.lines.Line2D at 0xb36ca90>,\n",
       " <matplotlib.lines.Line2D at 0xb36cc88>,\n",
       " <matplotlib.lines.Line2D at 0xb3259b0>,\n",
       " <matplotlib.lines.Line2D at 0xb372080>,\n",
       " <matplotlib.lines.Line2D at 0xb372278>,\n",
       " <matplotlib.lines.Line2D at 0xb372470>,\n",
       " <matplotlib.lines.Line2D at 0xb372668>,\n",
       " <matplotlib.lines.Line2D at 0xb372860>,\n",
       " <matplotlib.lines.Line2D at 0xb372a58>,\n",
       " <matplotlib.lines.Line2D at 0xb372c50>,\n",
       " <matplotlib.lines.Line2D at 0xb372e48>,\n",
       " <matplotlib.lines.Line2D at 0xb379080>,\n",
       " <matplotlib.lines.Line2D at 0xb379278>,\n",
       " <matplotlib.lines.Line2D at 0xb379470>,\n",
       " <matplotlib.lines.Line2D at 0xb379668>,\n",
       " <matplotlib.lines.Line2D at 0xb379860>,\n",
       " <matplotlib.lines.Line2D at 0xb379a58>,\n",
       " <matplotlib.lines.Line2D at 0xb379c50>,\n",
       " <matplotlib.lines.Line2D at 0xb379e48>,\n",
       " <matplotlib.lines.Line2D at 0xb380080>,\n",
       " <matplotlib.lines.Line2D at 0xb380278>,\n",
       " <matplotlib.lines.Line2D at 0xb380470>,\n",
       " <matplotlib.lines.Line2D at 0xb380668>,\n",
       " <matplotlib.lines.Line2D at 0xb380860>]"
      ]
     },
     "execution_count": 42,
     "metadata": {},
     "output_type": "execute_result"
    },
    {
     "data": {
      "image/png": "[encoded data removed]",
      "text/plain": [
       "<matplotlib.figure.Figure at 0xb2e47b8>"
      ]
     },
     "metadata": {},
     "output_type": "display_data"
    }
   ],
   "source": [
    "ffit = poly.polyval(data, coefs)\n",
    "plt.plot(data, ffit)"
   ]
  }
 ],
 "metadata": {
  "kernelspec": {
   "display_name": "Python 3",
   "language": "python",
   "name": "python3"
  },
  "language_info": {
   "codemirror_mode": {
    "name": "ipython",
    "version": 3
   },
   "file_extension": ".py",
   "mimetype": "text/x-python",
   "name": "python",
   "nbconvert_exporter": "python",
   "pygments_lexer": "ipython3",
   "version": "3.6.1"
  }
 },
 "nbformat": 4,
 "nbformat_minor": 2
}
