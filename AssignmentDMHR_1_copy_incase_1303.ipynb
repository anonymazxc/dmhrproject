{
 "cells": [
  {
   "cell_type": "code",
   "execution_count": 1,
   "metadata": {
    "collapsed": true
   },
   "outputs": [],
   "source": [
    "#preliminaries\n",
    "import pandas as pd\n",
    "import numpy as np\n",
    "\n",
    "%matplotlib inline\n",
    "import random\n",
    "import matplotlib.pyplot as plt"
   ]
  },
  {
   "cell_type": "code",
   "execution_count": 2,
   "metadata": {},
   "outputs": [
    {
     "data": {
      "text/html": [
       "<div>\n",
       "<style>\n",
       "    .dataframe thead tr:only-child th {\n",
       "        text-align: right;\n",
       "    }\n",
       "\n",
       "    .dataframe thead th {\n",
       "        text-align: left;\n",
       "    }\n",
       "\n",
       "    .dataframe tbody tr th {\n",
       "        vertical-align: top;\n",
       "    }\n",
       "</style>\n",
       "<table border=\"1\" class=\"dataframe\">\n",
       "  <thead>\n",
       "    <tr style=\"text-align: right;\">\n",
       "      <th></th>\n",
       "      <th>period</th>\n",
       "      <th>practice</th>\n",
       "      <th>practicename</th>\n",
       "      <th>centrename</th>\n",
       "      <th>street</th>\n",
       "      <th>city</th>\n",
       "      <th>county</th>\n",
       "      <th>postcode</th>\n",
       "    </tr>\n",
       "  </thead>\n",
       "  <tbody>\n",
       "    <tr>\n",
       "      <th>0</th>\n",
       "      <td>201512</td>\n",
       "      <td>A81002</td>\n",
       "      <td>QUEENS PARK MEDICAL CENTRE</td>\n",
       "      <td>QUEENS PARK MEDICAL CTR</td>\n",
       "      <td>FARRER STREET</td>\n",
       "      <td>STOCKTON ON TEES</td>\n",
       "      <td>CLEVELAND</td>\n",
       "      <td>TS18 2AW</td>\n",
       "    </tr>\n",
       "    <tr>\n",
       "      <th>1</th>\n",
       "      <td>201512</td>\n",
       "      <td>A81003</td>\n",
       "      <td>VICTORIA MEDICAL PRACTICE</td>\n",
       "      <td>THE HEALTH CENTRE</td>\n",
       "      <td>VICTORIA ROAD</td>\n",
       "      <td>HARTLEPOOL</td>\n",
       "      <td>CLEVELAND</td>\n",
       "      <td>TS26 8DB</td>\n",
       "    </tr>\n",
       "    <tr>\n",
       "      <th>2</th>\n",
       "      <td>201512</td>\n",
       "      <td>A81004</td>\n",
       "      <td>WOODLANDS ROAD SURGERY</td>\n",
       "      <td>6 WOODLANDS ROAD</td>\n",
       "      <td></td>\n",
       "      <td>MIDDLESBROUGH</td>\n",
       "      <td>CLEVELAND</td>\n",
       "      <td>TS1 3BE</td>\n",
       "    </tr>\n",
       "    <tr>\n",
       "      <th>3</th>\n",
       "      <td>201512</td>\n",
       "      <td>A81005</td>\n",
       "      <td>SPRINGWOOD SURGERY</td>\n",
       "      <td>SPRINGWOOD SURGERY</td>\n",
       "      <td>RECTORY LANE</td>\n",
       "      <td>GUISBOROUGH</td>\n",
       "      <td></td>\n",
       "      <td>TS14 7DJ</td>\n",
       "    </tr>\n",
       "    <tr>\n",
       "      <th>4</th>\n",
       "      <td>201512</td>\n",
       "      <td>A81006</td>\n",
       "      <td>TENNANT STREET MEDICAL PRACTICE</td>\n",
       "      <td>TENNANT ST MED PRACT</td>\n",
       "      <td>FARRER STREET</td>\n",
       "      <td>STOCKTON ON TEES</td>\n",
       "      <td>CLEVELAND</td>\n",
       "      <td>TS18 2AT</td>\n",
       "    </tr>\n",
       "  </tbody>\n",
       "</table>\n",
       "</div>"
      ],
      "text/plain": [
       "   period practice                              practicename  \\\n",
       "0  201512   A81002  QUEENS PARK MEDICAL CENTRE                 \n",
       "1  201512   A81003  VICTORIA MEDICAL PRACTICE                  \n",
       "2  201512   A81004  WOODLANDS ROAD SURGERY                     \n",
       "3  201512   A81005  SPRINGWOOD SURGERY                         \n",
       "4  201512   A81006  TENNANT STREET MEDICAL PRACTICE            \n",
       "\n",
       "                  centrename                     street  \\\n",
       "0  QUEENS PARK MEDICAL CTR    FARRER STREET               \n",
       "1  THE HEALTH CENTRE          VICTORIA ROAD               \n",
       "2  6 WOODLANDS ROAD                                       \n",
       "3  SPRINGWOOD SURGERY         RECTORY LANE                \n",
       "4  TENNANT ST MED PRACT       FARRER STREET               \n",
       "\n",
       "                        city                     county  \\\n",
       "0  STOCKTON ON TEES           CLEVELAND                   \n",
       "1  HARTLEPOOL                 CLEVELAND                   \n",
       "2  MIDDLESBROUGH              CLEVELAND                   \n",
       "3  GUISBOROUGH                                            \n",
       "4  STOCKTON ON TEES           CLEVELAND                   \n",
       "\n",
       "                    postcode  \n",
       "0  TS18 2AW                   \n",
       "1  TS26 8DB                   \n",
       "2  TS1 3BE                    \n",
       "3  TS14 7DJ                   \n",
       "4  TS18 2AT                   "
      ]
     },
     "execution_count": 2,
     "metadata": {},
     "output_type": "execute_result"
    }
   ],
   "source": [
    "#Load data from URLs\n",
    "# Import package\n",
    "from urllib.request import urlretrieve\n",
    "\n",
    "# Assign url of file: url\n",
    "url1 = 'https://s3.eu-west-2.amazonaws.com/dmhr-data/practices_Dec2015.csv'\n",
    "\n",
    "# Read file into a DataFrame and print its head\n",
    "cols1 = ['period', 'practice', 'practicename', 'centrename', 'street', 'city', 'county', 'postcode']\n",
    "practicedataset = pd.read_csv(url1, header=None, names=cols1, index_col=False, skiprows=1)\n",
    "practicedataset.head()"
   ]
  },
  {
   "cell_type": "code",
   "execution_count": 3,
   "metadata": {},
   "outputs": [
    {
     "ename": "MemoryError",
     "evalue": "",
     "output_type": "error",
     "traceback": [
      "\u001b[1;31m---------------------------------------------------------------------------\u001b[0m",
      "\u001b[1;31mMemoryError\u001b[0m                               Traceback (most recent call last)",
      "\u001b[1;32m<ipython-input-3-159dc44242c4>\u001b[0m in \u001b[0;36m<module>\u001b[1;34m()\u001b[0m\n\u001b[0;32m      1\u001b[0m \u001b[0murl2\u001b[0m \u001b[1;33m=\u001b[0m \u001b[1;34m'https://s3.eu-west-2.amazonaws.com/dmhr-data/prescribing_Dec2015.csv'\u001b[0m\u001b[1;33m\u001b[0m\u001b[0m\n\u001b[0;32m      2\u001b[0m \u001b[0mcols2\u001b[0m \u001b[1;33m=\u001b[0m \u001b[1;33m[\u001b[0m\u001b[1;34m'sha'\u001b[0m\u001b[1;33m,\u001b[0m \u001b[1;34m'pct'\u001b[0m\u001b[1;33m,\u001b[0m \u001b[1;34m'practice'\u001b[0m\u001b[1;33m,\u001b[0m \u001b[1;34m'bnf_code'\u001b[0m\u001b[1;33m,\u001b[0m \u001b[1;34m'bnf_name'\u001b[0m\u001b[1;33m,\u001b[0m \u001b[1;34m'items'\u001b[0m\u001b[1;33m,\u001b[0m \u001b[1;34m'nic'\u001b[0m\u001b[1;33m,\u001b[0m \u001b[1;34m'act_cost'\u001b[0m\u001b[1;33m,\u001b[0m \u001b[1;34m'quantity'\u001b[0m\u001b[1;33m,\u001b[0m \u001b[1;34m'period'\u001b[0m\u001b[1;33m]\u001b[0m\u001b[1;33m\u001b[0m\u001b[0m\n\u001b[1;32m----> 3\u001b[1;33m \u001b[0mprescribingdataset\u001b[0m \u001b[1;33m=\u001b[0m \u001b[0mpd\u001b[0m\u001b[1;33m.\u001b[0m\u001b[0mread_csv\u001b[0m\u001b[1;33m(\u001b[0m\u001b[0murl2\u001b[0m\u001b[1;33m,\u001b[0m \u001b[0mheader\u001b[0m\u001b[1;33m=\u001b[0m\u001b[1;32mNone\u001b[0m\u001b[1;33m,\u001b[0m \u001b[0mnames\u001b[0m\u001b[1;33m=\u001b[0m\u001b[0mcols2\u001b[0m\u001b[1;33m,\u001b[0m \u001b[0mindex_col\u001b[0m\u001b[1;33m=\u001b[0m\u001b[1;32mFalse\u001b[0m\u001b[1;33m,\u001b[0m \u001b[0mskiprows\u001b[0m\u001b[1;33m=\u001b[0m\u001b[1;36m1\u001b[0m\u001b[1;33m)\u001b[0m\u001b[1;33m\u001b[0m\u001b[0m\n\u001b[0m\u001b[0;32m      4\u001b[0m \u001b[0mprescribingdataset\u001b[0m\u001b[1;33m.\u001b[0m\u001b[0mhead\u001b[0m\u001b[1;33m(\u001b[0m\u001b[1;33m)\u001b[0m\u001b[1;33m\u001b[0m\u001b[0m\n",
      "\u001b[1;32mC:\\Program Files\\Anaconda3\\lib\\site-packages\\pandas\\io\\parsers.py\u001b[0m in \u001b[0;36mparser_f\u001b[1;34m(filepath_or_buffer, sep, delimiter, header, names, index_col, usecols, squeeze, prefix, mangle_dupe_cols, dtype, engine, converters, true_values, false_values, skipinitialspace, skiprows, nrows, na_values, keep_default_na, na_filter, verbose, skip_blank_lines, parse_dates, infer_datetime_format, keep_date_col, date_parser, dayfirst, iterator, chunksize, compression, thousands, decimal, lineterminator, quotechar, quoting, escapechar, comment, encoding, dialect, tupleize_cols, error_bad_lines, warn_bad_lines, skipfooter, skip_footer, doublequote, delim_whitespace, as_recarray, compact_ints, use_unsigned, low_memory, buffer_lines, memory_map, float_precision)\u001b[0m\n\u001b[0;32m    653\u001b[0m                     skip_blank_lines=skip_blank_lines)\n\u001b[0;32m    654\u001b[0m \u001b[1;33m\u001b[0m\u001b[0m\n\u001b[1;32m--> 655\u001b[1;33m         \u001b[1;32mreturn\u001b[0m \u001b[0m_read\u001b[0m\u001b[1;33m(\u001b[0m\u001b[0mfilepath_or_buffer\u001b[0m\u001b[1;33m,\u001b[0m \u001b[0mkwds\u001b[0m\u001b[1;33m)\u001b[0m\u001b[1;33m\u001b[0m\u001b[0m\n\u001b[0m\u001b[0;32m    656\u001b[0m \u001b[1;33m\u001b[0m\u001b[0m\n\u001b[0;32m    657\u001b[0m     \u001b[0mparser_f\u001b[0m\u001b[1;33m.\u001b[0m\u001b[0m__name__\u001b[0m \u001b[1;33m=\u001b[0m \u001b[0mname\u001b[0m\u001b[1;33m\u001b[0m\u001b[0m\n",
      "\u001b[1;32mC:\\Program Files\\Anaconda3\\lib\\site-packages\\pandas\\io\\parsers.py\u001b[0m in \u001b[0;36m_read\u001b[1;34m(filepath_or_buffer, kwds)\u001b[0m\n\u001b[0;32m    390\u001b[0m     \u001b[0mcompression\u001b[0m \u001b[1;33m=\u001b[0m \u001b[0m_infer_compression\u001b[0m\u001b[1;33m(\u001b[0m\u001b[0mfilepath_or_buffer\u001b[0m\u001b[1;33m,\u001b[0m \u001b[0mcompression\u001b[0m\u001b[1;33m)\u001b[0m\u001b[1;33m\u001b[0m\u001b[0m\n\u001b[0;32m    391\u001b[0m     filepath_or_buffer, _, compression = get_filepath_or_buffer(\n\u001b[1;32m--> 392\u001b[1;33m         filepath_or_buffer, encoding, compression)\n\u001b[0m\u001b[0;32m    393\u001b[0m     \u001b[0mkwds\u001b[0m\u001b[1;33m[\u001b[0m\u001b[1;34m'compression'\u001b[0m\u001b[1;33m]\u001b[0m \u001b[1;33m=\u001b[0m \u001b[0mcompression\u001b[0m\u001b[1;33m\u001b[0m\u001b[0m\n\u001b[0;32m    394\u001b[0m \u001b[1;33m\u001b[0m\u001b[0m\n",
      "\u001b[1;32mC:\\Program Files\\Anaconda3\\lib\\site-packages\\pandas\\io\\common.py\u001b[0m in \u001b[0;36mget_filepath_or_buffer\u001b[1;34m(filepath_or_buffer, encoding, compression)\u001b[0m\n\u001b[0;32m    189\u001b[0m             \u001b[1;31m# Override compression based on Content-Encoding header\u001b[0m\u001b[1;33m\u001b[0m\u001b[1;33m\u001b[0m\u001b[0m\n\u001b[0;32m    190\u001b[0m             \u001b[0mcompression\u001b[0m \u001b[1;33m=\u001b[0m \u001b[1;34m'gzip'\u001b[0m\u001b[1;33m\u001b[0m\u001b[0m\n\u001b[1;32m--> 191\u001b[1;33m         \u001b[0mreader\u001b[0m \u001b[1;33m=\u001b[0m \u001b[0mBytesIO\u001b[0m\u001b[1;33m(\u001b[0m\u001b[0mreq\u001b[0m\u001b[1;33m.\u001b[0m\u001b[0mread\u001b[0m\u001b[1;33m(\u001b[0m\u001b[1;33m)\u001b[0m\u001b[1;33m)\u001b[0m\u001b[1;33m\u001b[0m\u001b[0m\n\u001b[0m\u001b[0;32m    192\u001b[0m         \u001b[1;32mreturn\u001b[0m \u001b[0mreader\u001b[0m\u001b[1;33m,\u001b[0m \u001b[0mencoding\u001b[0m\u001b[1;33m,\u001b[0m \u001b[0mcompression\u001b[0m\u001b[1;33m\u001b[0m\u001b[0m\n\u001b[0;32m    193\u001b[0m \u001b[1;33m\u001b[0m\u001b[0m\n",
      "\u001b[1;32mC:\\Program Files\\Anaconda3\\lib\\http\\client.py\u001b[0m in \u001b[0;36mread\u001b[1;34m(self, amt)\u001b[0m\n\u001b[0;32m    460\u001b[0m             \u001b[1;32melse\u001b[0m\u001b[1;33m:\u001b[0m\u001b[1;33m\u001b[0m\u001b[0m\n\u001b[0;32m    461\u001b[0m                 \u001b[1;32mtry\u001b[0m\u001b[1;33m:\u001b[0m\u001b[1;33m\u001b[0m\u001b[0m\n\u001b[1;32m--> 462\u001b[1;33m                     \u001b[0ms\u001b[0m \u001b[1;33m=\u001b[0m \u001b[0mself\u001b[0m\u001b[1;33m.\u001b[0m\u001b[0m_safe_read\u001b[0m\u001b[1;33m(\u001b[0m\u001b[0mself\u001b[0m\u001b[1;33m.\u001b[0m\u001b[0mlength\u001b[0m\u001b[1;33m)\u001b[0m\u001b[1;33m\u001b[0m\u001b[0m\n\u001b[0m\u001b[0;32m    463\u001b[0m                 \u001b[1;32mexcept\u001b[0m \u001b[0mIncompleteRead\u001b[0m\u001b[1;33m:\u001b[0m\u001b[1;33m\u001b[0m\u001b[0m\n\u001b[0;32m    464\u001b[0m                     \u001b[0mself\u001b[0m\u001b[1;33m.\u001b[0m\u001b[0m_close_conn\u001b[0m\u001b[1;33m(\u001b[0m\u001b[1;33m)\u001b[0m\u001b[1;33m\u001b[0m\u001b[0m\n",
      "\u001b[1;32mC:\\Program Files\\Anaconda3\\lib\\http\\client.py\u001b[0m in \u001b[0;36m_safe_read\u001b[1;34m(self, amt)\u001b[0m\n\u001b[0;32m    615\u001b[0m             \u001b[0ms\u001b[0m\u001b[1;33m.\u001b[0m\u001b[0mappend\u001b[0m\u001b[1;33m(\u001b[0m\u001b[0mchunk\u001b[0m\u001b[1;33m)\u001b[0m\u001b[1;33m\u001b[0m\u001b[0m\n\u001b[0;32m    616\u001b[0m             \u001b[0mamt\u001b[0m \u001b[1;33m-=\u001b[0m \u001b[0mlen\u001b[0m\u001b[1;33m(\u001b[0m\u001b[0mchunk\u001b[0m\u001b[1;33m)\u001b[0m\u001b[1;33m\u001b[0m\u001b[0m\n\u001b[1;32m--> 617\u001b[1;33m         \u001b[1;32mreturn\u001b[0m \u001b[1;34mb\"\"\u001b[0m\u001b[1;33m.\u001b[0m\u001b[0mjoin\u001b[0m\u001b[1;33m(\u001b[0m\u001b[0ms\u001b[0m\u001b[1;33m)\u001b[0m\u001b[1;33m\u001b[0m\u001b[0m\n\u001b[0m\u001b[0;32m    618\u001b[0m \u001b[1;33m\u001b[0m\u001b[0m\n\u001b[0;32m    619\u001b[0m     \u001b[1;32mdef\u001b[0m \u001b[0m_safe_readinto\u001b[0m\u001b[1;33m(\u001b[0m\u001b[0mself\u001b[0m\u001b[1;33m,\u001b[0m \u001b[0mb\u001b[0m\u001b[1;33m)\u001b[0m\u001b[1;33m:\u001b[0m\u001b[1;33m\u001b[0m\u001b[0m\n",
      "\u001b[1;31mMemoryError\u001b[0m: "
     ]
    }
   ],
   "source": [
    "url2 = 'https://s3.eu-west-2.amazonaws.com/dmhr-data/prescribing_Dec2015.csv'\n",
    "cols2 = ['sha', 'pct', 'practice', 'bnf_code', 'bnf_name', 'items', 'nic', 'act_cost', 'quantity', 'period']\n",
    "prescribingdataset = pd.read_csv(url2, header=None, names=cols2, index_col=False, skiprows=1)\n",
    "prescribingdataset.head()"
   ]
  },
  {
   "cell_type": "code",
   "execution_count": null,
   "metadata": {},
   "outputs": [],
   "source": [
    "#Merge the two datasets\n",
    "twodatasets= pd.merge(left= prescribingdataset, right= practicedataset, on='practice')\n",
    "twodatasets.head()"
   ]
  },
  {
   "cell_type": "code",
   "execution_count": null,
   "metadata": {},
   "outputs": [],
   "source": [
    "#Select only Southampton \n",
    "\n",
    "twodatasets_s= twodatasets[twodatasets['city'].str.contains('SOUTHAMPTON')]\n",
    "twodatasets_s.head()"
   ]
  },
  {
   "cell_type": "code",
   "execution_count": null,
   "metadata": {},
   "outputs": [],
   "source": [
    "#Produce a table with the total number of prescriptions and their total actual cost (using the ACT COST column).\n",
    "Total_city_act_cost = twodatasets_s['act_cost'].sum()\n",
    "Total_city_quantity = twodatasets_s['quantity'].sum()\n",
    "\n",
    "print (Total_city_act_cost,\",\", Total_city_quantity)\n"
   ]
  },
  {
   "cell_type": "code",
   "execution_count": null,
   "metadata": {
    "scrolled": true
   },
   "outputs": [],
   "source": [
    "#Find the top ten most/least frequently prescribed medications across all practices (quantity column)\n",
    " \n",
    "quantity_sorted= twodatasets_s.sort_values('quantity', axis=0, ascending=False, kind='quicksort', na_position='last')\n",
    "quantity_top10 = quantity_sorted.head(10)\n",
    "quantity_top10\n",
    "print(\"The top ten most frequently prescribed medications are:\",quantity_top10.bnf_name)\n",
    "quantity_least10 = quantity_sorted.tail(10)\n",
    "print(\"The top ten least frequently prescribed medications are:\",quantity_least10.bnf_name)\n"
   ]
  },
  {
   "cell_type": "code",
   "execution_count": null,
   "metadata": {},
   "outputs": [],
   "source": [
    "#What is their total actual cost \n",
    "\n",
    "Total_act_cost_top10 = quantity_top10['act_cost'].sum()\n",
    "Total_act_cost_least10 = quantity_least10['act_cost'].sum()\n",
    "print(\"The total actual cost of the top 10 and least 10 prescribed medications are: \", Total_act_cost_top10, \",\", Total_act_cost_least10)\n",
    "\n"
   ]
  },
  {
   "cell_type": "code",
   "execution_count": null,
   "metadata": {},
   "outputs": [],
   "source": [
    "#How does the total actual cost compare to the overall actual costs of each practice and of the entire city?\n",
    "\n",
    "#Total actual cost of each practice\n",
    "costofeachpractice=twodatasets_s.groupby('practice')[('act_cost')].sum().reset_index()\n",
    "\n",
    "print(\"The top ten and least ten prescribed medications total actual cost is: \", Total_act_cost_top10,\",\", Total_act_cost_least10) #total actual cost top 10 and least 10\n",
    "print(\"The total actual cost of each practice is: \", costofeachpractice) #total actual cost of each practice\n",
    "print(\"The total actual cost of Southampton is: \", Total_city_act_cost) #total actual cost of entire city"
   ]
  },
  {
   "cell_type": "code",
   "execution_count": null,
   "metadata": {},
   "outputs": [],
   "source": [
    "#Find the top ten most expensive medications and calculate their total actual cost\n",
    "\n",
    "cost_sorted= twodatasets_s.sort_values('act_cost', axis=0, ascending=False, kind='quicksort', na_position='last')\n",
    "cost_top10 = cost_sorted.head(10)\n",
    "print(cost_top10)\n",
    "print(\"\\n\")\n",
    "Total_cost_mostexpensive = cost_top10['act_cost'].sum()\n",
    "print(\"The total cost of the top ten most expensive medications is: \", Total_cost_mostexpensive)\n"
   ]
  },
  {
   "cell_type": "code",
   "execution_count": null,
   "metadata": {},
   "outputs": [],
   "source": [
    "#How does prescribing (frequency and costs) in your city compare when using prescribing data from Cambridge as a reference?\n",
    "#Select only Cambridge\n",
    "twodatasets_c= twodatasets[twodatasets['city'].str.contains('CAMBRIDGE')]\n",
    "\n",
    "#Produce a table with the total number of prescriptions and their total actual cost (in Cambridge)\n",
    "Total_cambridge_cost = twodatasets_c['act_cost'].sum()\n",
    "Total_cambridge_quantity = twodatasets_c['quantity'].sum()\n",
    "print (\"Prescribing costs and frequency of prescriptions in Southampton is\", Total_city_act_cost, \",\", Total_city_quantity) \n",
    "print(\"Prescribing costs and frequency of prescriptions in Cambridge is\", Total_cambridge_cost, \",\", Total_cambridge_quantity)"
   ]
  },
  {
   "cell_type": "code",
   "execution_count": 12,
   "metadata": {},
   "outputs": [
    {
     "ename": "SyntaxError",
     "evalue": "EOL while scanning string literal (<ipython-input-12-6fdbd617fa88>, line 18)",
     "output_type": "error",
     "traceback": [
      "\u001b[1;36m  File \u001b[1;32m\"<ipython-input-12-6fdbd617fa88>\"\u001b[1;36m, line \u001b[1;32m18\u001b[0m\n\u001b[1;33m    print (pdsql(\"SELECT * FROM twodatasets ORDER BY practice DESC;, locals()))\u001b[0m\n\u001b[1;37m                                                                               ^\u001b[0m\n\u001b[1;31mSyntaxError\u001b[0m\u001b[1;31m:\u001b[0m EOL while scanning string literal\n"
     ]
    }
   ],
   "source": [
    "#Using SQL, produce a table that provides the number of GP practices per city, ordered in descending order.\n",
    "\n",
    "import pandas as pd\n",
    "from pandasql import PandaSQL\n",
    "pdsql = PandaSQL()\n",
    "\n",
    "\n",
    "# Assign url of file: url\n",
    "url = 'https://s3.eu-west-2.amazonaws.com/dmhr-data/practices_Dec2015.csv'\n",
    "# Save file locally\n",
    "urlretrieve(url, 'Practicedata.csv')\n",
    "\n",
    "# Read file into a DataFrame and print its head\n",
    "cols1 = ['period', 'practice', 'practicename', 'centrename', 'street', 'city', 'county', 'postcode']\n",
    "practicedataset_sql = pd.read_csv('Practicedata.csv', header=None, names=cols1, index_col=False, skiprows=1).rename(columns=lambda x: x.strip())\n",
    "print(practicedataset_sql.head())\n",
    "\n",
    "print (pdsql(\"SELECT * FROM twodatasets ORDER BY practice DESC;, locals()))\n",
    "   "
   ]
  },
  {
   "cell_type": "code",
   "execution_count": null,
   "metadata": {},
   "outputs": [],
   "source": [
    "# Assign url of file: url\n",
    "url_3 = 'https://digital.nhs.uk/media/28273/Numbers-of-Patients-Registered-at-a-GP-Practice-Jan-2016-GP-Practice-and-quinary-age-groups/Any/gp-reg-patients-prac-quin-age'\n",
    "demo = pd.read_csv(url_3)\n",
    "demodataset = demo.rename(columns = {'GP_PRACTICE_CODE':'practice', 'POSTCODE':'postcode'})\n",
    "\n",
    "demodataset\n",
    "\n"
   ]
  },
  {
   "cell_type": "code",
   "execution_count": null,
   "metadata": {},
   "outputs": [],
   "source": [
    "#Merge the two datasets\n",
    "\n",
    "threedatasets= pd.merge(left=twodatasets, right=demodataset, on='practice')\n",
    "threedatasets.head()"
   ]
  },
  {
   "cell_type": "code",
   "execution_count": null,
   "metadata": {},
   "outputs": [],
   "source": [
    "#1.Calculate the monthly total spending for each GP-practice. \n",
    "monthlytotal = threedatasets.groupby('practice')['act_cost'].sum().reset_index()\n",
    "monthlytotal.head()"
   ]
  },
  {
   "cell_type": "code",
   "execution_count": null,
   "metadata": {
    "collapsed": true
   },
   "outputs": [],
   "source": [
    "#2.Use the number of registered patients in each GP-practice to calculate the relative costs per patient.\n",
    "\n",
    "totalall = demodataset.groupby('practice')['Total_All'].sum().reset_index()\n",
    "totalall.head()"
   ]
  },
  {
   "cell_type": "code",
   "execution_count": null,
   "metadata": {
    "collapsed": true
   },
   "outputs": [],
   "source": [
    "monthlyandtotal = pd.merge(left=monthlytotal, right= totalall, on='practice')\n",
    "monthlyandtotal.head()"
   ]
  },
  {
   "cell_type": "code",
   "execution_count": null,
   "metadata": {
    "collapsed": true
   },
   "outputs": [],
   "source": [
    "monthlyandtotal['relativecosts'] = monthlyandtotal['act_cost']/monthlyandtotal['Total_All']\n",
    "monthlyandtotal['relativecosts'] #relative costs per patient"
   ]
  },
  {
   "cell_type": "code",
   "execution_count": null,
   "metadata": {
    "collapsed": true
   },
   "outputs": [],
   "source": [
    "monthlyandtotal.head()"
   ]
  },
  {
   "cell_type": "code",
   "execution_count": null,
   "metadata": {
    "collapsed": true
   },
   "outputs": [],
   "source": [
    "#Monthlyandtotal only for Southampton\n",
    "a=twodatasets_s.practice.unique().tolist()\n",
    "b=monthlyandtotal.practice.isin(a)\n",
    "monthlyandtotal_s= monthlyandtotal[b]\n"
   ]
  },
  {
   "cell_type": "code",
   "execution_count": null,
   "metadata": {
    "collapsed": true
   },
   "outputs": [],
   "source": [
    "monthlyandtotal_s"
   ]
  },
  {
   "cell_type": "code",
   "execution_count": 6,
   "metadata": {},
   "outputs": [
    {
     "ename": "NameError",
     "evalue": "name 'monthlyandtotal' is not defined",
     "output_type": "error",
     "traceback": [
      "\u001b[1;31m---------------------------------------------------------------------------\u001b[0m",
      "\u001b[1;31mNameError\u001b[0m                                 Traceback (most recent call last)",
      "\u001b[1;32m<ipython-input-6-2ac847042c73>\u001b[0m in \u001b[0;36m<module>\u001b[1;34m()\u001b[0m\n\u001b[0;32m      4\u001b[0m \u001b[0mfig\u001b[0m\u001b[1;33m=\u001b[0m\u001b[0mplt\u001b[0m\u001b[1;33m.\u001b[0m\u001b[0mfigure\u001b[0m\u001b[1;33m(\u001b[0m\u001b[0mfigsize\u001b[0m\u001b[1;33m=\u001b[0m\u001b[1;33m(\u001b[0m\u001b[1;36m8\u001b[0m\u001b[1;33m,\u001b[0m \u001b[1;36m6\u001b[0m\u001b[1;33m)\u001b[0m\u001b[1;33m)\u001b[0m\u001b[1;33m\u001b[0m\u001b[0m\n\u001b[0;32m      5\u001b[0m \u001b[0max\u001b[0m\u001b[1;33m=\u001b[0m\u001b[0mfig\u001b[0m\u001b[1;33m.\u001b[0m\u001b[0madd_subplot\u001b[0m\u001b[1;33m(\u001b[0m\u001b[1;36m111\u001b[0m\u001b[1;33m)\u001b[0m\u001b[1;33m\u001b[0m\u001b[0m\n\u001b[1;32m----> 6\u001b[1;33m \u001b[0mx\u001b[0m\u001b[1;33m=\u001b[0m \u001b[0mmonthlyandtotal\u001b[0m\u001b[1;33m[\u001b[0m\u001b[1;34m'act_cost'\u001b[0m\u001b[1;33m]\u001b[0m\u001b[1;33m\u001b[0m\u001b[0m\n\u001b[0m\u001b[0;32m      7\u001b[0m \u001b[0my\u001b[0m \u001b[1;33m=\u001b[0m \u001b[0mmonthlyandtotal\u001b[0m\u001b[1;33m[\u001b[0m\u001b[1;34m'Total_All'\u001b[0m\u001b[1;33m]\u001b[0m\u001b[1;33m\u001b[0m\u001b[0m\n\u001b[0;32m      8\u001b[0m \u001b[0mx1\u001b[0m\u001b[1;33m=\u001b[0m \u001b[0mmonthlyandtotal_s\u001b[0m\u001b[1;33m[\u001b[0m\u001b[1;34m'act_cost'\u001b[0m\u001b[1;33m]\u001b[0m\u001b[1;33m\u001b[0m\u001b[0m\n",
      "\u001b[1;31mNameError\u001b[0m: name 'monthlyandtotal' is not defined"
     ]
    },
    {
     "data": {
      "image/png": "[encoded data removed]",
      "text/plain": [
       "<matplotlib.figure.Figure at 0xab915c0>"
      ]
     },
     "metadata": {},
     "output_type": "display_data"
    }
   ],
   "source": [
    "#3.Visualize the monthly total spending per registered patients for all GP-practices in a scatterplot, show a trend line, and visualize the data for your city within the national scatterplot\n",
    "#Create a scatterplot\n",
    "from math import floor\n",
    "fig=plt.figure(figsize=(8, 6))\n",
    "ax=fig.add_subplot(111)\n",
    "x= monthlyandtotal['act_cost']\n",
    "y = monthlyandtotal['Total_All']\n",
    "x1= monthlyandtotal_s['act_cost']\n",
    "y1= monthlyandtotal_s['Total_All']\n",
    "ax.scatter(x, y, color='#FFBAD2')\n",
    "ax.scatter(x1, y1, color='blue')\n",
    "fit = np.polyfit(x, y, deg=1)\n",
    "ax.plot(x, fit[0] * x + fit[1], color='red')\n",
    "ax.set_title(\"Monthly total spending per registered patients (all GP-practices)\")\n",
    "ax.set_xlabel(\"Monthly costs\",fontsize=12)\n",
    "ax.set_ylabel(\"Registered patients\",fontsize=12)\n",
    "max_x = floor(monthlyandtotal.act_cost.max())\n",
    "max_y = floor(monthlyandtotal.Total_All.max())\n",
    "ax.set_xlim(0, max_x)\n",
    "ax.set_ylim(0, max_y)\n",
    "ax.legend()"
   ]
  },
  {
   "cell_type": "code",
   "execution_count": null,
   "metadata": {
    "collapsed": true
   },
   "outputs": [],
   "source": [
    "z= monthlyandtotal['relativecosts']\n",
    "z"
   ]
  },
  {
   "cell_type": "code",
   "execution_count": null,
   "metadata": {
    "collapsed": true
   },
   "outputs": [],
   "source": [
    "#4.Visualize the relative costs per patient of all national GP-practices in a histogram.\n",
    "\n",
    "cost_patient_plot = merged\n",
    "cost_patient_plot['cost_per_patient'] = cost_patient_plot['total_costs_per_practice'] / cost_patient_plot['Total_All'] \n",
    "\n",
    "x = cost_patient_plot.cost_per_patient.values\n",
    "\n",
    "plt.hist(x, bins=75)\n",
    "plt.xlabel(\"Monthly prescription spending per patient\")\n",
    "plt.ylabel(\"Frequency\")\n",
    "\n",
    "min_x = floor(cost_patient_plot['cost_per_patient'].quantile(.01))\n",
    "max_x = floor(cost_patient_plot['cost_per_patient'].quantile(.99))\n",
    "plt.xlim(min_x, max_x) #do not show outliers\n",
    "plt.title(\"GP practice monthly total prescription spending per registered patient\")\n",
    "plt.show()\n",
    "\n",
    "\n",
    "\n",
    "\n",
    "z= monthlyandtotal['relativecosts']\n",
    "num_bins = 5\n",
    "n, bins, patches = plt.hist(z, num_bins, facecolor='blue', alpha=0.5)\n",
    "plt.show()"
   ]
  },
  {
   "cell_type": "code",
   "execution_count": null,
   "metadata": {
    "collapsed": true
   },
   "outputs": [],
   "source": [
    "#5.Use descriptive statistics to show how your assigned city compares to the national level.\n",
    "#Descriptive statistics southampton vs national\n"
   ]
  },
  {
   "cell_type": "code",
   "execution_count": null,
   "metadata": {
    "collapsed": true
   },
   "outputs": [],
   "source": []
  },
  {
   "cell_type": "code",
   "execution_count": null,
   "metadata": {
    "collapsed": true
   },
   "outputs": [],
   "source": []
  }
 ],
 "metadata": {
  "kernelspec": {
   "display_name": "Python 3",
   "language": "python",
   "name": "python3"
  },
  "language_info": {
   "codemirror_mode": {
    "name": "ipython",
    "version": 3
   },
   "file_extension": ".py",
   "mimetype": "text/x-python",
   "name": "python",
   "nbconvert_exporter": "python",
   "pygments_lexer": "ipython3",
   "version": "3.6.1"
  }
 },
 "nbformat": 4,
 "nbformat_minor": 2
}
