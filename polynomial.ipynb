{
 "cells": [
  {
   "cell_type": "code",
   "execution_count": 1,
   "metadata": {
    "collapsed": true
   },
   "outputs": [],
   "source": [
    "#preliminaries\n",
    "import pandas as pd\n",
    "import numpy as np\n",
    "\n",
    "%matplotlib inline\n",
    "import random\n",
    "import matplotlib.pyplot as plt"
   ]
  },
  {
   "cell_type": "code",
   "execution_count": 2,
   "metadata": {
    "collapsed": true
   },
   "outputs": [],
   "source": [
    "c = (\"Data-Set.txt\")\n",
    "data= np.loadtxt(c, delimiter=',', unpack=True)\n"
   ]
  },
  {
   "cell_type": "code",
   "execution_count": 4,
   "metadata": {},
   "outputs": [],
   "source": [
    "x= [0.,30.,60.,90.,120.,150.,180.,210.,240.,270.,300.,330.,360.,390.,420.,450.,480.,510.,540.,570.,600.,630.,660.,690.,720.,750.,780.,810.,840.,870.,900.,930.]\n",
    "y= [16.0313,16.0314,16.0355,16.047 ,16.0648,16.0874,16.1128,16.1407,16.1702,16.2012,16.2332,16.2657, 16.2999,16.3336,16.3692,16.4059,16.4421,16.4787,16.5173,16.5557,16.5943,16.6335,16.6747,16.715,16.756,16.7984,16.8414,16.8836,16.9289,16.9741,17.0204,17.0655]\n"
   ]
  },
  {
   "cell_type": "code",
   "execution_count": 5,
   "metadata": {
    "collapsed": true
   },
   "outputs": [],
   "source": [
    "import numpy.polynomial.polynomial as poly\n"
   ]
  },
  {
   "cell_type": "code",
   "execution_count": 7,
   "metadata": {},
   "outputs": [],
   "source": [
    "# calculate polynomial\n",
    "z = np.polyfit(x, y, 10)\n",
    "f = np.poly1d(z)\n",
    "\n",
    "# calculate new x's and y's\n",
    "x_new = np.linspace(x[0], x[-1], 50)\n",
    "y_new = f(x_new)\n",
    "\n",
    "\n"
   ]
  },
  {
   "cell_type": "code",
   "execution_count": 8,
   "metadata": {},
   "outputs": [
    {
     "data": {
      "text/plain": [
       "array([   0.        ,   18.97959184,   37.95918367,   56.93877551,\n",
       "         75.91836735,   94.89795918,  113.87755102,  132.85714286,\n",
       "        151.83673469,  170.81632653,  189.79591837,  208.7755102 ,\n",
       "        227.75510204,  246.73469388,  265.71428571,  284.69387755,\n",
       "        303.67346939,  322.65306122,  341.63265306,  360.6122449 ,\n",
       "        379.59183673,  398.57142857,  417.55102041,  436.53061224,\n",
       "        455.51020408,  474.48979592,  493.46938776,  512.44897959,\n",
       "        531.42857143,  550.40816327,  569.3877551 ,  588.36734694,\n",
       "        607.34693878,  626.32653061,  645.30612245,  664.28571429,\n",
       "        683.26530612,  702.24489796,  721.2244898 ,  740.20408163,\n",
       "        759.18367347,  778.16326531,  797.14285714,  816.12244898,\n",
       "        835.10204082,  854.08163265,  873.06122449,  892.04081633,\n",
       "        911.02040816,  930.        ])"
      ]
     },
     "execution_count": 8,
     "metadata": {},
     "output_type": "execute_result"
    }
   ],
   "source": [
    "x_new"
   ]
  },
  {
   "cell_type": "code",
   "execution_count": 9,
   "metadata": {},
   "outputs": [
    {
     "data": {
      "text/plain": [
       "array([ 16.03137378,  16.03085098,  16.03173101,  16.03499106,\n",
       "        16.04097348,  16.04962866,  16.06068991,  16.07379451,\n",
       "        16.08856307,  16.10464737,  16.12175517,  16.1396588 ,\n",
       "        16.15819307,  16.17724681,  16.19675133,  16.21666813,\n",
       "        16.23697749,  16.25766903,  16.2787346 ,  16.3001638 ,\n",
       "        16.32194172,  16.34404879,  16.36646204,  16.38915724,\n",
       "        16.41211145,  16.43530545,  16.45872558,  16.48236477,\n",
       "        16.50622257,  16.5303042 ,  16.55461875,  16.57917672,\n",
       "        16.60398741,  16.6290565 ,  16.6543843 ,  16.67996515,\n",
       "        16.70578837,  16.73184088,  16.7581115 ,  16.78459656,\n",
       "        16.81130601,  16.83826856,  16.86553397,  16.89316942,\n",
       "        16.92124626,  16.94981211,  16.97884214,  17.00816177,\n",
       "        17.03733152,  17.06548276])"
      ]
     },
     "execution_count": 9,
     "metadata": {},
     "output_type": "execute_result"
    }
   ],
   "source": [
    "y_new"
   ]
  },
  {
   "cell_type": "code",
   "execution_count": 13,
   "metadata": {},
   "outputs": [
    {
     "data": {
      "text/plain": [
       "<function matplotlib.pyplot.show>"
      ]
     },
     "execution_count": 13,
     "metadata": {},
     "output_type": "execute_result"
    },
    {
     "data": {
      "image/png": "[encoded data removed]",
      "text/plain": [
       "<matplotlib.figure.Figure at 0x994e550>"
      ]
     },
     "metadata": {},
     "output_type": "display_data"
    }
   ],
   "source": [
    "plt.plot(x,y,'o', x_new, y_new)\n",
    "plt.xlim([x[0]-1, x[-1] + 1 ])\n",
    "plt.show"
   ]
  }
 ],
 "metadata": {
  "kernelspec": {
   "display_name": "Python 3",
   "language": "python",
   "name": "python3"
  },
  "language_info": {
   "codemirror_mode": {
    "name": "ipython",
    "version": 3
   },
   "file_extension": ".py",
   "mimetype": "text/x-python",
   "name": "python",
   "nbconvert_exporter": "python",
   "pygments_lexer": "ipython3",
   "version": "3.6.1"
  }
 },
 "nbformat": 4,
 "nbformat_minor": 2
}
