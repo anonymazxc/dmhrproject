{
 "cells": [
  {
   "cell_type": "code",
   "execution_count": 28,
   "metadata": {
    "collapsed": true
   },
   "outputs": [],
   "source": [
    "#preliminaries\n",
    "import pandas as pd\n",
    "import numpy as np\n",
    "\n",
    "%matplotlib inline\n",
    "import random\n",
    "import matplotlib.pyplot as plt"
   ]
  },
  {
   "cell_type": "code",
   "execution_count": 31,
   "metadata": {},
   "outputs": [
    {
     "name": "stdout",
     "output_type": "stream",
     "text": [
      "     date practiceID                              practicename  \\\n",
      "0  201512     A81002  QUEENS PARK MEDICAL CENTRE                 \n",
      "1  201512     A81003  VICTORIA MEDICAL PRACTICE                  \n",
      "2  201512     A81004  WOODLANDS ROAD SURGERY                     \n",
      "3  201512     A81005  SPRINGWOOD SURGERY                         \n",
      "4  201512     A81006  TENNANT STREET MEDICAL PRACTICE            \n",
      "\n",
      "                  centrename                     street  \\\n",
      "0  QUEENS PARK MEDICAL CTR    FARRER STREET               \n",
      "1  THE HEALTH CENTRE          VICTORIA ROAD               \n",
      "2  6 WOODLANDS ROAD                                       \n",
      "3  SPRINGWOOD SURGERY         RECTORY LANE                \n",
      "4  TENNANT ST MED PRACT       FARRER STREET               \n",
      "\n",
      "                        city                     county  \\\n",
      "0  STOCKTON ON TEES           CLEVELAND                   \n",
      "1  HARTLEPOOL                 CLEVELAND                   \n",
      "2  MIDDLESBROUGH              CLEVELAND                   \n",
      "3  GUISBOROUGH                                            \n",
      "4  STOCKTON ON TEES           CLEVELAND                   \n",
      "\n",
      "                    postcode  \n",
      "0  TS18 2AW                   \n",
      "1  TS26 8DB                   \n",
      "2  TS1 3BE                    \n",
      "3  TS14 7DJ                   \n",
      "4  TS18 2AT                   \n"
     ]
    }
   ],
   "source": [
    "#Load data from URLs\n",
    "# Import package\n",
    "from urllib.request import urlretrieve\n",
    "\n",
    "# Import pandas\n",
    "import pandas as pd\n",
    "\n",
    "# Assign url of file: url\n",
    "url = 'https://s3.eu-west-2.amazonaws.com/dmhr-data/practices_Dec2015.csv'\n",
    "# Save file locally\n",
    "urlretrieve(url, 'Practicedata.csv')\n",
    "\n",
    "# Read file into a DataFrame and print its head\n",
    "cols2 = ['date', 'practiceID', 'practicename', 'centrename', 'street', 'city', 'county', 'postcode']\n",
    "practicedataset = pd.read_csv('Practicedata.csv', header=None, names=cols2, index_col=False, skiprows=1).rename(columns=lambda x: x.strip())\n",
    "print(practicedataset.head())\n"
   ]
  },
  {
   "cell_type": "code",
   "execution_count": 32,
   "metadata": {},
   "outputs": [
    {
     "name": "stdout",
     "output_type": "stream",
     "text": [
      "   SHA  PCT PRACTICE         BNF CODE  \\\n",
      "0  Q44  RJN   Y05218  0501013K0AAAJAJ   \n",
      "1  Q44  RJN   Y05218  0501130R0AAAAAA   \n",
      "2  Q44  RTV   Y04937  0401020K0AAAHAH   \n",
      "3  Q44  RTV   Y04937  0401020P0AAABAB   \n",
      "4  Q44  RTV   Y04937  0402010ABAAABAB   \n",
      "\n",
      "  BNF NAME                                      ITEMS    NIC          \\\n",
      "0     Co-Amoxiclav_Tab 500mg/125mg                    1         3.59   \n",
      "1     Nitrofurantoin_Cap 50mg                         1        14.39   \n",
      "2     Diazepam_Tab 2mg                                1         0.51   \n",
      "3     Lorazepam_Tab 1mg                               1         2.65   \n",
      "4     Quetiapine_Tab 25mg                             2         2.01   \n",
      "\n",
      "   ACT COST     QUANTITY  PERIOD                      \n",
      "0         3.33        21  201512                      \n",
      "1        13.42        28  201512                      \n",
      "2         0.58        14  201512                      \n",
      "3         2.46        28  201512                      \n",
      "4         2.08        84  201512                      \n"
     ]
    }
   ],
   "source": [
    "# Import package\n",
    "from urllib.request import urlretrieve\n",
    "\n",
    "# Import pandas\n",
    "import pandas as pd\n",
    "\n",
    "# Assign url of file: url\n",
    "url = 'https://s3.eu-west-2.amazonaws.com/dmhr-data/prescribing_Dec2015.csv'\n",
    "# Save file locally\n",
    "urlretrieve(url, 'Prescribingdata.csv')\n",
    "\n",
    "# Read file into a DataFrame and print its head\n",
    "prescribingdataset = pd.read_csv('Prescribingdata.csv')\n",
    "print(prescribingdataset.head())"
   ]
  },
  {
   "cell_type": "code",
   "execution_count": 35,
   "metadata": {},
   "outputs": [
    {
     "name": "stdout",
     "output_type": "stream",
     "text": [
      "\f",
      "\n"
     ]
    }
   ],
   "source": []
  },
  {
   "cell_type": "code",
   "execution_count": 34,
   "metadata": {},
   "outputs": [
    {
     "name": "stdout",
     "output_type": "stream",
     "text": [
      "\f",
      "\n"
     ]
    }
   ],
   "source": []
  },
  {
   "cell_type": "code",
   "execution_count": 33,
   "metadata": {},
   "outputs": [
    {
     "name": "stdout",
     "output_type": "stream",
     "text": [
      "\f",
      "\n"
     ]
    }
   ],
   "source": []
  },
  {
   "cell_type": "code",
   "execution_count": null,
   "metadata": {
    "collapsed": true
   },
   "outputs": [],
   "source": []
  }
 ],
 "metadata": {
  "kernelspec": {
   "display_name": "Python 3",
   "language": "python",
   "name": "python3"
  },
  "language_info": {
   "codemirror_mode": {
    "name": "ipython",
    "version": 3
   },
   "file_extension": ".py",
   "mimetype": "text/x-python",
   "name": "python",
   "nbconvert_exporter": "python",
   "pygments_lexer": "ipython3",
   "version": "3.6.1"
  }
 },
 "nbformat": 4,
 "nbformat_minor": 2
}
